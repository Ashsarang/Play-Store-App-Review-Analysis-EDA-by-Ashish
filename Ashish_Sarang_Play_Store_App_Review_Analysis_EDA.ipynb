{
  "nbformat": 4,
  "nbformat_minor": 0,
  "metadata": {
    "colab": {
      "private_outputs": true,
      "provenance": [],
      "collapsed_sections": [
        "ylSl6qgtp1ck",
        "ZWILFDl5p1ck",
        "M7G43BXep1ck",
        "Ag9LCva-p1cl",
        "E6MkPsBcp1cl",
        "2cELzS2fp1cl",
        "3MPXvC8up1cl",
        "NC_X3p0fY2L0",
        "UV0SzAkaZNRQ",
        "YPEH6qLeZNRQ",
        "gIfDvo9L0UH2"
      ]
    },
    "kernelspec": {
      "name": "python3",
      "display_name": "Python 3"
    },
    "language_info": {
      "name": "python"
    }
  },
  "cells": [
    {
      "cell_type": "markdown",
      "source": [
        "# **Project Name**    - **Play Store App Review Analysis**\n",
        "\n"
      ],
      "metadata": {
        "id": "vncDsAP0Gaoa"
      }
    },
    {
      "cell_type": "markdown",
      "source": [
        "##### **Project Type**    - EDA\n",
        "##### **Contribution**    - Individual\n",
        "##### **Name              - Ashish Anil Sarang**\n"
      ],
      "metadata": {
        "id": "beRrZCGUAJYm"
      }
    },
    {
      "cell_type": "markdown",
      "source": [
        "# **Project Summary -**"
      ],
      "metadata": {
        "id": "FJNUwmbgGyua"
      }
    },
    {
      "cell_type": "markdown",
      "source": [
        "Play Store, also branded as the Google Play Store and formerly Android Market, is a digital distribution service operated and developed by Google. Applications are available through Play Store either free of charge or at a cost. They can be downloaded directly on an Android device through the proprietary Play Store mobile app.\n",
        "\n",
        "We are provided with the two datasets one containing the information about apps and the other consist of the user reviews and their sentiments about the apps. Our goal is to analyze the dataset and visualize the trends and relations between app features. There are many questions an app developer could come across while developing an app and our study will help in answering those questions. Our analysis is divided into three phases; understanding data, data preparation and data visualization."
      ],
      "metadata": {
        "id": "F6v_1wHtG2nS"
      }
    },
    {
      "cell_type": "markdown",
      "source": [
        "# **GitHub Link -**"
      ],
      "metadata": {
        "id": "w6K7xa23Elo4"
      }
    },
    {
      "cell_type": "markdown",
      "source": [
        "Provide your GitHub Link here."
      ],
      "metadata": {
        "id": "h1o69JH3Eqqn"
      }
    },
    {
      "cell_type": "markdown",
      "source": [
        "# **Problem Statement**\n"
      ],
      "metadata": {
        "id": "yQaldy8SH6Dl"
      }
    },
    {
      "cell_type": "markdown",
      "source": [
        "Given the vast repository of data available from the Play Store, the challenge is to formulate a comprehensive analysis that identifies key factors influencing app engagement and success. Specifically, this entails exploring app attributes such as category, rating, and size, as well as analyzing user reviews to gain insights into consumer preferences and sentiments. The objective is to uncover actionable insights that app developers can leverage to optimize their strategies, enhance app performance, and effectively capture the Android market\n",
        "\n",
        "\n",
        "\n",
        "\n",
        "\n",
        "\n"
      ],
      "metadata": {
        "id": "DpeJGUA3kjGy"
      }
    },
    {
      "cell_type": "markdown",
      "source": [
        "#### **Define Your Business Objective?**"
      ],
      "metadata": {
        "id": "PH-0ReGfmX4f"
      }
    },
    {
      "cell_type": "markdown",
      "source": [
        "The wealth of data available from the Play Store presents a promising opportunity for app developers to propel their businesses towards success. By mining this data, developers can extract actionable insights crucial for capturing the Android market. Each app entry is rich with information such as category, rating, and size, providing a comprehensive view of the app landscape. Complementing this dataset is another containing customer reviews, offering invaluable feedback on app performance. Through thorough exploration and analysis of these datasets, key factors driving app engagement and success can be uncovered, empowering developers to make informed decisions and optimize their strategies for maximum impact in the competitive app market."
      ],
      "metadata": {
        "id": "PhDvGCAqmjP1"
      }
    },
    {
      "cell_type": "markdown",
      "source": [
        "# **General Guidelines** : -  "
      ],
      "metadata": {
        "id": "mDgbUHAGgjLW"
      }
    },
    {
      "cell_type": "markdown",
      "source": [
        "1.   Well-structured, formatted, and commented code is required.\n",
        "2.   Exception Handling, Production Grade Code & Deployment Ready Code will be a plus. Those students will be awarded some additional credits.\n",
        "     \n",
        "     The additional credits will have advantages over other students during Star Student selection.\n",
        "       \n",
        "             [ Note: - Deployment Ready Code is defined as, the whole .ipynb notebook should be executable in one go\n",
        "                       without a single error logged. ]\n",
        "\n",
        "3.   Each and every logic should have proper comments.\n",
        "4. You may add as many number of charts you want. Make Sure for each and every chart the following format should be answered.\n",
        "        \n",
        "\n",
        "```\n",
        "# Chart visualization code\n",
        "```\n",
        "            \n",
        "\n",
        "*   Why did you pick the specific chart?\n",
        "*   What is/are the insight(s) found from the chart?\n",
        "* Will the gained insights help creating a positive business impact?\n",
        "Are there any insights that lead to negative growth? Justify with specific reason.\n",
        "\n",
        "5. You have to create at least 20 logical & meaningful charts having important insights.\n",
        "\n",
        "\n",
        "[ Hints : - Do the Vizualization in  a structured way while following \"UBM\" Rule.\n",
        "\n",
        "U - Univariate Analysis,\n",
        "\n",
        "B - Bivariate Analysis (Numerical - Categorical, Numerical - Numerical, Categorical - Categorical)\n",
        "\n",
        "M - Multivariate Analysis\n",
        " ]\n",
        "\n",
        "\n",
        "\n"
      ],
      "metadata": {
        "id": "ZrxVaUj-hHfC"
      }
    },
    {
      "cell_type": "markdown",
      "source": [
        "# ***Let's Begin !***"
      ],
      "metadata": {
        "id": "O_i_v8NEhb9l"
      }
    },
    {
      "cell_type": "markdown",
      "source": [
        "## ***1. Know Your Data***"
      ],
      "metadata": {
        "id": "HhfV-JJviCcP"
      }
    },
    {
      "cell_type": "markdown",
      "source": [
        "### Import Libraries"
      ],
      "metadata": {
        "id": "Y3lxredqlCYt"
      }
    },
    {
      "cell_type": "code",
      "source": [
        "import numpy as np\n",
        "import pandas as pd\n",
        "import matplotlib.pyplot as plt\n",
        "import seaborn as sns\n",
        "from datetime import datetime\n",
        "\n",
        "import warnings\n",
        "warnings.filterwarnings('ignore')\n",
        "%matplotlib inline"
      ],
      "metadata": {
        "id": "M8Vqi-pPk-HR"
      },
      "execution_count": null,
      "outputs": []
    },
    {
      "cell_type": "markdown",
      "source": [
        "### Dataset Loading"
      ],
      "metadata": {
        "id": "3RnN4peoiCZX"
      }
    },
    {
      "cell_type": "code",
      "source": [
        "from google.colab import drive\n",
        "drive.mount('/content/drive')"
      ],
      "metadata": {
        "id": "I80ufav22hKZ"
      },
      "execution_count": null,
      "outputs": []
    },
    {
      "cell_type": "code",
      "source": [
        "#Loading Dataset and storing them as a Pandas dataframe\n",
        "apps_df = pd.read_csv(\"/content/drive/MyDrive/Alma Better EDA files/Play Store Data.csv\")\n",
        "reviews_df = pd.read_csv(\"/content/drive/MyDrive/Alma Better EDA files/User Reviews.csv\")"
      ],
      "metadata": {
        "id": "Bu0mxLXnBv77"
      },
      "execution_count": null,
      "outputs": []
    },
    {
      "cell_type": "code",
      "source": [
        "#copying the dataframe\n",
        "data_apps = apps_df.copy()"
      ],
      "metadata": {
        "id": "tCHe3cCt4jaN"
      },
      "execution_count": null,
      "outputs": []
    },
    {
      "cell_type": "markdown",
      "source": [
        "### Dataset First View"
      ],
      "metadata": {
        "id": "x71ZqKXriCWQ"
      }
    },
    {
      "cell_type": "code",
      "source": [
        "#Let us look at first 20 rows\n",
        "data_apps.head(n = 20)\n"
      ],
      "metadata": {
        "id": "LWNFOSvLl09H"
      },
      "execution_count": null,
      "outputs": []
    },
    {
      "cell_type": "markdown",
      "source": [
        "### Dataset Rows & Columns count"
      ],
      "metadata": {
        "id": "7hBIi_osiCS2"
      }
    },
    {
      "cell_type": "code",
      "source": [
        "# Dataset Rows & Columns count\n",
        "data_apps.shape"
      ],
      "metadata": {
        "id": "Kllu7SJgmLij"
      },
      "execution_count": null,
      "outputs": []
    },
    {
      "cell_type": "markdown",
      "source": [
        "### Dataset Information"
      ],
      "metadata": {
        "id": "JlHwYmJAmNHm"
      }
    },
    {
      "cell_type": "code",
      "source": [
        "# Dataset Info\n",
        "data_apps.info()"
      ],
      "metadata": {
        "id": "e9hRXRi6meOf"
      },
      "execution_count": null,
      "outputs": []
    },
    {
      "cell_type": "markdown",
      "source": [
        "#### Duplicate Values"
      ],
      "metadata": {
        "id": "35m5QtbWiB9F"
      }
    },
    {
      "cell_type": "code",
      "source": [
        "# Dataset Duplicate Value Count\n",
        "len(data_apps[data_apps['App'].duplicated()])"
      ],
      "metadata": {
        "id": "1sLdpKYkmox0"
      },
      "execution_count": null,
      "outputs": []
    },
    {
      "cell_type": "code",
      "source": [
        "# droping duplicates\n",
        "data_apps.drop_duplicates(\"App\", inplace=True)"
      ],
      "metadata": {
        "id": "llIubYuY9BAb"
      },
      "execution_count": null,
      "outputs": []
    },
    {
      "cell_type": "markdown",
      "source": [
        "#### Missing Values/Null Values"
      ],
      "metadata": {
        "id": "PoPl-ycgm1ru"
      }
    },
    {
      "cell_type": "code",
      "source": [
        "# checking the columns which have missing values\n",
        "columns_with_missing_values = data_apps.columns[data_apps.isnull().any()]\n",
        "data_apps[columns_with_missing_values].isnull().sum()"
      ],
      "metadata": {
        "id": "GgHWkxvamxVg"
      },
      "execution_count": null,
      "outputs": []
    },
    {
      "cell_type": "code",
      "source": [
        "# Visualizing the missing values\n",
        "columns = ['Rating', 'Type', 'Content Rating', 'Current Ver', 'Android Ver']\n",
        "missing_values_count = [1463, 1, 1, 8, 3]\n",
        "\n",
        "# Creating a bar plot with Seaborn\n",
        "plt.figure(figsize=(10, 6))  # Adjust the figure size if needed\n",
        "sns.barplot(x=columns, y=missing_values_count)\n",
        "\n",
        "# Adding labels and title\n",
        "plt.xlabel('Columns')\n",
        "plt.ylabel('Number of Missing Values')\n",
        "plt.title('Count of Missing Values in Columns')\n",
        "\n",
        "# Rotating x-axis labels for better readability\n",
        "plt.xticks(rotation=45)\n",
        "\n",
        "# Showing the plot\n",
        "plt.show()\n",
        "\n",
        "\n",
        "\n"
      ],
      "metadata": {
        "id": "3q5wnI3om9sJ"
      },
      "execution_count": null,
      "outputs": []
    },
    {
      "cell_type": "markdown",
      "source": [
        "Dataset contains many Null or missing values.\n",
        "\n",
        "*   [ 'Rating' ] --> contains 1474 missing values.\n",
        "*   [ 'Type' ] --> contains 1 missing values.\n",
        "*   [ 'Content Rating' ] --> contains 1 missing values.\n",
        "*   [ 'Current Ver' ] --> contains 8 missing values. *[ 'AndAndroid Ver' ] --> contains 3 missing values.\n",
        "\n"
      ],
      "metadata": {
        "id": "hb7Zyb6imctM"
      }
    },
    {
      "cell_type": "markdown",
      "source": [
        "Creating a function to gather more information about these attributes of dataset"
      ],
      "metadata": {
        "id": "1du3kooQIGvj"
      }
    },
    {
      "cell_type": "code",
      "source": [
        "def printinfo():\n",
        "    df = pd.DataFrame(index=data_apps.columns)\n",
        "    df['data_type'] = data_apps.dtypes\n",
        "    df['null_count'] = data_apps.isnull().sum()\n",
        "    df['unique_count'] = data_apps.nunique()\n",
        "    return df"
      ],
      "metadata": {
        "id": "YzZQ9jpKH8Vg"
      },
      "execution_count": null,
      "outputs": []
    },
    {
      "cell_type": "code",
      "source": [
        "printinfo()"
      ],
      "metadata": {
        "id": "nbpfrthUILh0"
      },
      "execution_count": null,
      "outputs": []
    },
    {
      "cell_type": "markdown",
      "source": [
        "Insights about data :\n",
        "\n",
        "1.   We have missing value counts of all the attributes\n",
        "2.   We have unique value counts of all the attributes\n",
        "3.   We have datatypes of all the attributes\n",
        "\n",
        "\n",
        "\n",
        "\n"
      ],
      "metadata": {
        "id": "mfSvbjCXIe1N"
      }
    },
    {
      "cell_type": "markdown",
      "source": [
        "### What did you know about your dataset?"
      ],
      "metadata": {
        "id": "H0kj-8xxnORC"
      }
    },
    {
      "cell_type": "markdown",
      "source": [
        "Understanding the dataset is crucial for conducting effective analysis. It involves familiarizing oneself with the structure, contents, and characteristics of the data to make informed decisions and perform meaningful operations."
      ],
      "metadata": {
        "id": "gfoNAAC-nUe_"
      }
    },
    {
      "cell_type": "markdown",
      "source": [
        "# **Data Cleaning**"
      ],
      "metadata": {
        "id": "6O78sCn2JYYW"
      }
    },
    {
      "cell_type": "markdown",
      "source": [
        "**Missing Value**"
      ],
      "metadata": {
        "id": "Gas05ZdMJoq_"
      }
    },
    {
      "cell_type": "code",
      "source": [
        "# looking at missing values in column Content Rating\n",
        "data_apps[data_apps['Content Rating'].isna()]\n"
      ],
      "metadata": {
        "id": "xdx-xw4qJrJm"
      },
      "execution_count": null,
      "outputs": []
    },
    {
      "cell_type": "markdown",
      "source": [
        "We clearly can see that row 10472 has a missing value under column Content Rating . Hence we drop this entire row for eliminating missing value."
      ],
      "metadata": {
        "id": "fyx77OPwJ23a"
      }
    },
    {
      "cell_type": "code",
      "source": [
        "#dropping the row containing missing value\n",
        "data_apps.dropna(subset = ['Content Rating'], inplace=True)"
      ],
      "metadata": {
        "id": "bHq_G8_nJxEk"
      },
      "execution_count": null,
      "outputs": []
    },
    {
      "cell_type": "markdown",
      "source": [
        "**Missing Values**"
      ],
      "metadata": {
        "id": "gKiFOawbKRWU"
      }
    },
    {
      "cell_type": "code",
      "source": [
        "#checking rows containing missing values under ['Type']\n",
        "data_apps[data_apps['Type'].isnull()]"
      ],
      "metadata": {
        "id": "YcwauZDlKWoo"
      },
      "execution_count": null,
      "outputs": []
    },
    {
      "cell_type": "code",
      "source": [
        "\n",
        "#lets check unique value counts\n",
        "data_apps['Type'].value_counts()"
      ],
      "metadata": {
        "id": "SajdymDLKZ8G"
      },
      "execution_count": null,
      "outputs": []
    },
    {
      "cell_type": "markdown",
      "source": [
        "So ['Type'] column has 2 unique values :\n",
        "\n",
        "*   Free\n",
        "*   Paid\n",
        "\n"
      ],
      "metadata": {
        "id": "VQz3hjLRObNd"
      }
    },
    {
      "cell_type": "code",
      "source": [
        "#lets find most frequent value/ mode\n",
        "data_apps['Type'].mode()\n",
        "print(f\"The mode/ most frequent value is '{data_apps['Type'].mode()[0]}'\")"
      ],
      "metadata": {
        "id": "jSdXBc1COVuW"
      },
      "execution_count": null,
      "outputs": []
    },
    {
      "cell_type": "markdown",
      "source": [
        "The mode/ most frequent value is 'Free'"
      ],
      "metadata": {
        "id": "DMHOiUZWOmrb"
      }
    },
    {
      "cell_type": "markdown",
      "source": [
        "So we have only one row which consist of a missing value under column 'Type'. After checking the price of that App , I got to know that its price is '0' and also the most of apps are free , that means we can fill the missing value with 'Free'."
      ],
      "metadata": {
        "id": "H0z_cUrhOo9x"
      }
    },
    {
      "cell_type": "code",
      "source": [
        "# filling missing data in city column\n",
        "data_apps['Type'].fillna('Free', inplace= True)\n"
      ],
      "metadata": {
        "id": "o9TZHzu2OtrK"
      },
      "execution_count": null,
      "outputs": []
    },
    {
      "cell_type": "markdown",
      "source": [
        "**Missing Values**"
      ],
      "metadata": {
        "id": "jkOVjeQdPUFg"
      }
    },
    {
      "cell_type": "code",
      "source": [
        "#checking rows with missing values\n",
        "data_apps[data_apps['Rating'].isnull()]"
      ],
      "metadata": {
        "id": "m9kYVv16Otk9"
      },
      "execution_count": null,
      "outputs": []
    },
    {
      "cell_type": "markdown",
      "source": [
        "There are 1463 values under 'Rating' which are missing. We cannot fill these values manually cause its very unpredictable.\n",
        "\n",
        "So lets see the distribution of this column:"
      ],
      "metadata": {
        "id": "o_5XqAjXPktb"
      }
    },
    {
      "cell_type": "code",
      "source": [
        "# plot distribution of rating\n",
        "sns.distplot(data_apps['Rating'])"
      ],
      "metadata": {
        "id": "5pmTNYEKPqkR"
      },
      "execution_count": null,
      "outputs": []
    },
    {
      "cell_type": "markdown",
      "source": [
        "Rating Column Shows negetively skewed-distribution as most of the values are concentrated atowards right side of the plot.In skewed distributions, the median is the best measure because it is unaffected by extreme outliers or non-symmetric distributions of scores.\n",
        "\n",
        "We can replace the missing values with the median value of the column"
      ],
      "metadata": {
        "id": "2mVzhMw5SGEz"
      }
    },
    {
      "cell_type": "code",
      "source": [
        "# calculating median value\n",
        "median_value = data_apps['Rating'].median()"
      ],
      "metadata": {
        "id": "wQheJr3YSPKc"
      },
      "execution_count": null,
      "outputs": []
    },
    {
      "cell_type": "code",
      "source": [
        "# replacing the missing values with median value\n",
        "data_apps['Rating'].fillna(median_value, inplace= True)"
      ],
      "metadata": {
        "id": "mV7w2ygsSWrh"
      },
      "execution_count": null,
      "outputs": []
    },
    {
      "cell_type": "markdown",
      "source": [
        "We are having some of the unnecessary columns which will be of not much use in the analysis process.\n",
        "\n",
        "Dropping them is the only solution."
      ],
      "metadata": {
        "id": "5KVzkhbFSdfd"
      }
    },
    {
      "cell_type": "code",
      "source": [
        "#dropping unnecessary columns\n",
        "data_apps.drop(['Current Ver' , 'Android Ver'], axis= 1, inplace= True)"
      ],
      "metadata": {
        "id": "S-4N8ZRgSdJi"
      },
      "execution_count": null,
      "outputs": []
    },
    {
      "cell_type": "markdown",
      "source": [
        "So After eliminating all the missing and duplicate values , dropping all the the unecessary columns , our dataframe looks like:"
      ],
      "metadata": {
        "id": "ZVt6nsJnTSQZ"
      }
    },
    {
      "cell_type": "code",
      "source": [
        "printinfo()"
      ],
      "metadata": {
        "id": "T94CA8VfTOj-"
      },
      "execution_count": null,
      "outputs": []
    },
    {
      "cell_type": "markdown",
      "source": [
        "All the columns have *'null_count' '0'. * So now dataset doesn't contain any missing value and is cleaned."
      ],
      "metadata": {
        "id": "VLS5DELy9_TQ"
      }
    },
    {
      "cell_type": "markdown",
      "source": [
        "# **Transforming Data**"
      ],
      "metadata": {
        "id": "nJUgBrFc96Z-"
      }
    },
    {
      "cell_type": "markdown",
      "source": [
        "As you can see from the above dataframe, Columns like Reviews, Size, Installs, & Price should have an int or float datatype,So let’s convert them to their respective correct type.\n",
        "\n",
        "Let's start with changing Reviews column from object to integer."
      ],
      "metadata": {
        "id": "DLuhjjFz9puj"
      }
    },
    {
      "cell_type": "code",
      "source": [
        "# changing data type of column Reviews\n",
        "data_apps['Reviews'] = data_apps.Reviews.astype(int)"
      ],
      "metadata": {
        "id": "O1g1ieBI-Kie"
      },
      "execution_count": null,
      "outputs": []
    },
    {
      "cell_type": "markdown",
      "source": [
        "To convert this column from object to integer type\n",
        "\n",
        "*   First of all, we will need to remove the + symbol from these values\n",
        "*   then need to remove ',' symbol from the numbers.\n",
        "\n"
      ],
      "metadata": {
        "id": "l2VJc5g_-Pws"
      }
    },
    {
      "cell_type": "code",
      "source": [
        "#removing special characters\n",
        "data_apps['Installs'] = data_apps['Installs'].apply(lambda x: x.strip('+'))"
      ],
      "metadata": {
        "id": "ENc79wu2-huG"
      },
      "execution_count": null,
      "outputs": []
    },
    {
      "cell_type": "code",
      "source": [
        "#removing special characters\n",
        "data_apps['Installs'] = data_apps['Installs'].apply(lambda x: x.replace(',', ''))"
      ],
      "metadata": {
        "id": "EpXST6pW-hii"
      },
      "execution_count": null,
      "outputs": []
    },
    {
      "cell_type": "code",
      "source": [
        "#Now we can convert [' Installs' ] column from string type to integer type\n",
        "data_apps['Installs'] = data_apps['Installs'].astype(int)"
      ],
      "metadata": {
        "id": "3naCK8hR-hWD"
      },
      "execution_count": null,
      "outputs": []
    },
    {
      "cell_type": "markdown",
      "source": [
        "Need to remove '$' symbol from['Price'] and convert column from Object to Float"
      ],
      "metadata": {
        "id": "aD2NiXPh-_ce"
      }
    },
    {
      "cell_type": "code",
      "source": [
        "# removing $ and changing the type of Price column\n",
        "data_apps['Price'] = data_apps['Price'].apply(lambda x : x.strip('$'))\n",
        "data_apps['Price'] = data_apps['Price'].astype(float)"
      ],
      "metadata": {
        "id": "IZNiS_9G_AqS"
      },
      "execution_count": null,
      "outputs": []
    },
    {
      "cell_type": "markdown",
      "source": [
        "Let us take ['Size'] column. let us look at the Unique Values of 'Size' column"
      ],
      "metadata": {
        "id": "03Upu9ZVAnhK"
      }
    },
    {
      "cell_type": "code",
      "source": [
        "#checking unique values\n",
        "data_apps['Size'].unique()"
      ],
      "metadata": {
        "id": "kPR47eV0_A_8"
      },
      "execution_count": null,
      "outputs": []
    },
    {
      "cell_type": "markdown",
      "source": [
        "Size column contain characters M and K which denotes MB and kB .\n",
        "\n",
        "*   Dropping the M symbol by replacing with the value '000':\n",
        "*   So that, all size values become the kilobyte type.\n"
      ],
      "metadata": {
        "id": "gp9_181yAxmX"
      }
    },
    {
      "cell_type": "code",
      "source": [
        "#Dropping the M symbol by replacing with the value '000':\n",
        "data_apps['Size'] = data_apps['Size'].str.replace(\"M\",\"000\")"
      ],
      "metadata": {
        "id": "SIL3EmPLA6J6"
      },
      "execution_count": null,
      "outputs": []
    },
    {
      "cell_type": "markdown",
      "source": [
        "Replacing the k with \"\":"
      ],
      "metadata": {
        "id": "aEQrMvCWBAq7"
      }
    },
    {
      "cell_type": "code",
      "source": [
        "#Replacing the k with \"\":\n",
        "data_apps['Size'] = data_apps['Size'].str.replace(\"k\",\"\")"
      ],
      "metadata": {
        "id": "LIgZ6LtRBHsw"
      },
      "execution_count": null,
      "outputs": []
    },
    {
      "cell_type": "markdown",
      "source": [
        "Some apps' sizes vary with device and we cannot actually predict their exact value , so its better to drop those rows having 'Varies with device' under 'Size' column"
      ],
      "metadata": {
        "id": "dwGgAG_WBQIk"
      }
    },
    {
      "cell_type": "code",
      "source": [
        "data_apps = data_apps[data_apps['Size'] != 'Varies with device']"
      ],
      "metadata": {
        "id": "SGJGPOV1BNmX"
      },
      "execution_count": null,
      "outputs": []
    },
    {
      "cell_type": "code",
      "source": [
        "# changing the type of Size column\n",
        "data_apps['Size'] = data_apps['Size'].astype(float)"
      ],
      "metadata": {
        "id": "pORH2TH2BUsg"
      },
      "execution_count": null,
      "outputs": []
    },
    {
      "cell_type": "markdown",
      "source": [
        "Now looking at the last updated column it contains the date on which the app is updated/launched last time. It is of object type so we have to convert date in the date-time format."
      ],
      "metadata": {
        "id": "1Eu7OLmqBx78"
      }
    },
    {
      "cell_type": "code",
      "source": [
        "# converting 'date' dtype from object to datetime\n",
        "def date_conversion(date_string):\n",
        "  date_obj = datetime.strptime(date_string, '%B %d, %Y').date()\n",
        "  date_obj = pd.to_datetime(date_obj, format=\"%Y-%m-%d\")\n",
        "  return date_obj\n",
        "\n",
        "data_apps['Last Updated'] = data_apps['Last Updated'].apply(date_conversion)"
      ],
      "metadata": {
        "id": "7Fs4lnThB6MD"
      },
      "execution_count": null,
      "outputs": []
    },
    {
      "cell_type": "markdown",
      "source": [
        "# Final Look at the dataset"
      ],
      "metadata": {
        "id": "x3Yz6X9_CDUq"
      }
    },
    {
      "cell_type": "code",
      "source": [
        "# reseting the index\n",
        "data_apps.reset_index(drop= True, inplace= True)"
      ],
      "metadata": {
        "id": "MSy0GhfzB9Dl"
      },
      "execution_count": null,
      "outputs": []
    },
    {
      "cell_type": "code",
      "source": [
        "#new shape\n",
        "data_apps.shape"
      ],
      "metadata": {
        "id": "BGI65-QUB84r"
      },
      "execution_count": null,
      "outputs": []
    },
    {
      "cell_type": "code",
      "source": [
        "#basic info\n",
        "data_apps.info()"
      ],
      "metadata": {
        "id": "8Xzk9fnCB8vk"
      },
      "execution_count": null,
      "outputs": []
    },
    {
      "cell_type": "code",
      "source": [
        "#glimse of dataset's first 5 rows\n",
        "data_apps.head()"
      ],
      "metadata": {
        "id": "3EhhpEABB8sJ"
      },
      "execution_count": null,
      "outputs": []
    },
    {
      "cell_type": "code",
      "source": [
        "#glimse of dataset's last 5 rows\n",
        "data_apps.tail()"
      ],
      "metadata": {
        "id": "XhPolWZWB8lF"
      },
      "execution_count": null,
      "outputs": []
    },
    {
      "cell_type": "markdown",
      "source": [
        "## ***2. Understanding Your Variables***"
      ],
      "metadata": {
        "id": "nA9Y7ga8ng1Z"
      }
    },
    {
      "cell_type": "code",
      "source": [
        "# Dataset Columns\n",
        "data_apps.columns"
      ],
      "metadata": {
        "id": "j7xfkqrt5Ag5"
      },
      "execution_count": null,
      "outputs": []
    },
    {
      "cell_type": "code",
      "source": [
        "# Dataset Describe\n",
        "data_apps.describe()"
      ],
      "metadata": {
        "id": "DnOaZdaE5Q5t"
      },
      "execution_count": null,
      "outputs": []
    },
    {
      "cell_type": "markdown",
      "source": [
        "### Variables Description"
      ],
      "metadata": {
        "id": "PBTbrJXOngz2"
      }
    },
    {
      "cell_type": "markdown",
      "source": [
        "Answer Here\n",
        "\n",
        "*   After cleaning the dataset we have 8432 apps\n",
        "*   Shape of the dataset is (8432,11) , that means 8432 rows and 11 columns\n",
        "*   There are no missing values in this dataset.\n",
        "*   Most of the apps are Free off cost , very few are paid apps , and Maximum price one has to pay for an app is 400($\n",
        "*   Average rating for an app is 4.18 , Maximum rating for an app is 5.00 and the minimum rating is 1.00\n",
        "*   Average size of the app is 18372KB , minimum size recorded for an app is 1KB , while maximum size recorded is 100000KB i.e 100 MB\n",
        "\n",
        "*   Some apps are installed more than 1 Billion times while some apps are not installed even single time.\n",
        "*   Average reviews on any app are 1.206553e+05 times , while some apps are also there who are not getting reviewed by users\n",
        "\n",
        "\n",
        "\n"
      ],
      "metadata": {
        "id": "aJV4KIxSnxay"
      }
    },
    {
      "cell_type": "markdown",
      "source": [
        "## ***4. Data Vizualization, Storytelling & Experimenting with charts : Understand the relationships between variables***"
      ],
      "metadata": {
        "id": "GF8Ens_Soomf"
      }
    },
    {
      "cell_type": "markdown",
      "source": [
        "#### Chart - 1"
      ],
      "metadata": {
        "id": "0wOQAZs5pc--"
      }
    },
    {
      "cell_type": "markdown",
      "source": [
        "# Distribution of Paid and Free Apps"
      ],
      "metadata": {
        "id": "fJNSSENMJ0rw"
      }
    },
    {
      "cell_type": "code",
      "source": [
        "# Calculate the distribution of app types (Free vs. Paid)\n",
        "data = data_apps['Type'].value_counts()\n",
        "\n",
        "# Labels for the pie chart\n",
        "labels = ['Free', 'Paid']\n",
        "\n",
        "# Create a pie chart\n",
        "plt.figure(figsize=(8,8))\n",
        "colors = [\"#00EE76\",\"#7B8895\"]\n",
        "explode=(0.01,0.1)\n",
        "plt.pie(data, labels = labels, colors = colors, autopct='%.2f%%', explode=explode, textprops={'fontsize': 15})\n",
        "plt.title('Distribution of Paid and Free Apps', size=15, loc='center')\n",
        "plt.legend()\n",
        "\n",
        "# Show the pie chart\n",
        "plt.show()\n"
      ],
      "metadata": {
        "id": "7v_ESjsspbW7"
      },
      "execution_count": null,
      "outputs": []
    },
    {
      "cell_type": "markdown",
      "source": [
        "##### 1. Why did you pick the specific chart?"
      ],
      "metadata": {
        "id": "K5QZ13OEpz2H"
      }
    },
    {
      "cell_type": "markdown",
      "source": [
        "The pie chart is effective for displaying the distribution of categorical data, such as the proportion of Free and Paid apps, in a visually appealing manner."
      ],
      "metadata": {
        "id": "XESiWehPqBRc"
      }
    },
    {
      "cell_type": "markdown",
      "source": [
        "##### 2. What is/are the insight(s) found from the chart?"
      ],
      "metadata": {
        "id": "lQ7QKXXCp7Bj"
      }
    },
    {
      "cell_type": "markdown",
      "source": [
        "The chart illustrates that Free apps make up a significant majority (92.2%) of the dataset, while Paid apps constitute a smaller portion (7.8%)."
      ],
      "metadata": {
        "id": "C_j1G7yiqdRP"
      }
    },
    {
      "cell_type": "markdown",
      "source": [
        "##### 3. Will the gained insights help creating a positive business impact?\n",
        "\n",
        "Are there any insights that lead to negative growth? Justify with specific reason"
      ],
      "metadata": {
        "id": "zEQ6ZySuEKvB"
      }
    },
    {
      "cell_type": "markdown",
      "source": [
        "The insight that most apps are free can help businesses understand the prevailing market trend towards free apps. For developers planning monetization strategies, this insight suggests that offering free apps with in-app purchases or ads might align better with user expectations.\n",
        "\n",
        "\n",
        "*   Negative Trend - However, if a business model heavily relies on paid apps, this insight could indicate a challenging market landscape in terms of competition and user preferences for free offerings.\n",
        "\n",
        "\n"
      ],
      "metadata": {
        "id": "OJk4FJhfD5Xc"
      }
    },
    {
      "cell_type": "markdown",
      "source": [
        "#### Chart - 2"
      ],
      "metadata": {
        "id": "KSlN3yHqYklG"
      }
    },
    {
      "cell_type": "markdown",
      "source": [
        "# Number of Apps per Category"
      ],
      "metadata": {
        "id": "K1F5Y_NuXEeX"
      }
    },
    {
      "cell_type": "markdown",
      "source": [
        "This chart shows the number of installations for each app category, helping to identify which categories are most popular among users."
      ],
      "metadata": {
        "id": "44m33pGHqKpI"
      }
    },
    {
      "cell_type": "code",
      "source": [
        "# get the number of apps for each category\n",
        "\n",
        "# Calculate the number of apps for each category\n",
        "app_count_per_category = data_apps['Category'].value_counts().sort_values(ascending=False)\n",
        "\n",
        "# Set the style for the plot\n",
        "sns.set_style('darkgrid')\n",
        "\n",
        "# Create a figure and set its size\n",
        "plt.figure(figsize=(10, 5))\n",
        "\n",
        "# Use a count plot to visualize the number of apps per category\n",
        "sns.countplot(x='Category', data=data_apps, order=app_count_per_category.index, palette=\"tab10\")\n",
        "\n",
        "# Set the title and labels for the plot\n",
        "plt.title('Number of Apps Per Category')\n",
        "plt.xticks(rotation=90)\n",
        "plt.ylabel('Number of Apps')\n",
        "\n",
        "# Show the plot\n",
        "plt.show()\n"
      ],
      "metadata": {
        "id": "mdeMKbuUpvxh"
      },
      "execution_count": null,
      "outputs": []
    },
    {
      "cell_type": "markdown",
      "source": [
        "##### 1. Why did you pick the specific chart?"
      ],
      "metadata": {
        "id": "t6dVpIINYklI"
      }
    },
    {
      "cell_type": "markdown",
      "source": [
        "I chose a count plot because it effectively shows the frequency of apps within each category, providing a clear overview of app distribution across different categories.\n",
        "\n",
        "\n",
        "\n",
        "\n",
        "\n",
        "\n"
      ],
      "metadata": {
        "id": "5aaW0BYyYklI"
      }
    },
    {
      "cell_type": "markdown",
      "source": [
        "##### 2. What is/are the insight(s) found from the chart?\n",
        "\n"
      ],
      "metadata": {
        "id": "ijmpgYnKYklI"
      }
    },
    {
      "cell_type": "markdown",
      "source": [
        "\n",
        "The chart reveals that out of 33 categories 'Family', 'Game', and 'Tools' have the highest number of apps, indicating that these categories are popular among app developers and users.\n",
        "\n",
        "Least number of apps are from EVENTS & BEAUTY Category.\n",
        "\n",
        "\n"
      ],
      "metadata": {
        "id": "PSx9atu2YklI"
      }
    },
    {
      "cell_type": "markdown",
      "source": [
        "##### 3. Will the gained insights help creating a positive business impact?\n",
        "\n",
        "Are there any insights that lead to negative growth? Justify with specific reason"
      ],
      "metadata": {
        "id": "jwC0UAvnqfUj"
      }
    },
    {
      "cell_type": "markdown",
      "source": [
        "Are there any insights that lead to negative growth? Justify with specific reason.\n",
        "\n",
        "These insights can be valuable for business planning and strategy. Knowing that 'Family', 'Game', and 'Tools' are popular categories, businesses can focus their development efforts on these categories to target a larger user base. However, there are no insights in this chart that directly suggest negative growth."
      ],
      "metadata": {
        "id": "mhcyCVeQqn0o"
      }
    },
    {
      "cell_type": "markdown",
      "source": [
        "#### Chart - 3"
      ],
      "metadata": {
        "id": "EM7whBJCYoAo"
      }
    },
    {
      "cell_type": "markdown",
      "source": [
        "# Distribution of apps over ratings"
      ],
      "metadata": {
        "id": "ETaJji8_ZP9I"
      }
    },
    {
      "cell_type": "code",
      "source": [
        "#kernel Distribution Estimation Plot\n",
        "plt.figure(figsize=(12,6))\n",
        "sns.set_style('whitegrid')\n",
        "plt.xlabel(\"Rating\")\n",
        "plt.ylabel(\"Frequency\")\n",
        "graph = sns.kdeplot(data_apps.Rating, color=\"Blue\", shade = True)\n",
        "plt.title('Distribution of Rating',size = 20)"
      ],
      "metadata": {
        "id": "t6GMdE67YoAp"
      },
      "execution_count": null,
      "outputs": []
    },
    {
      "cell_type": "markdown",
      "source": [
        "##### 1. Why did you pick the specific chart?"
      ],
      "metadata": {
        "id": "fge-S5ZAYoAp"
      }
    },
    {
      "cell_type": "markdown",
      "source": [
        "KDE plots are a versatile and effective choice for reviewing rating and frequency data because they offer a smooth representation, allow for the visualization of two variables simultaneously, estimate probability density, offer flexibility in visualization, and provide clear presentation of insights."
      ],
      "metadata": {
        "id": "5dBItgRVYoAp"
      }
    },
    {
      "cell_type": "markdown",
      "source": [
        "##### 2. What is/are the insight(s) found from the chart?"
      ],
      "metadata": {
        "id": "85gYPyotYoAp"
      }
    },
    {
      "cell_type": "markdown",
      "source": [
        "*   Distribution of ratings is negetively skewed.\n",
        "*   We see that majority of apps lie between 4.0 and 4.7 rating.\n",
        "*   Most of the ratings are above 3.5 which means most of the apps on Play Store are being liked by the users.\n",
        "\n",
        "\n",
        "\n"
      ],
      "metadata": {
        "id": "4jstXR6OYoAp"
      }
    },
    {
      "cell_type": "markdown",
      "source": [
        "##### 3. Will the gained insights help creating a positive business impact?\n",
        "\n",
        "Are there any insights that lead to negative growth? Justify with specific reason"
      ],
      "metadata": {
        "id": "tc80F_c5xXRq"
      }
    },
    {
      "cell_type": "markdown",
      "source": [
        "Yes, the insight that many apps have high ratings suggests that users are satisfied with a substantial portion of the apps available. This positive sentiment can contribute to a positive business impact by encouraging more downloads, better user reviews, and potentially increased revenue from app purchases or advertisements. However, it's essential to further analyze other factors like user reviews, app functionality, and competition to make informed business decisions."
      ],
      "metadata": {
        "id": "5yRZTucTxdoh"
      }
    },
    {
      "cell_type": "markdown",
      "source": [
        "#### Chart - 4"
      ],
      "metadata": {
        "id": "4Of9eVA-YrdM"
      }
    },
    {
      "cell_type": "markdown",
      "source": [
        "# Different Distributions in User Review Data\n",
        "\n",
        "\n",
        "\n"
      ],
      "metadata": {
        "id": "_T_vNhbscFg1"
      }
    },
    {
      "cell_type": "code",
      "source": [
        "# Plotting the three charts\n",
        "plt.figure(figsize=(15, 5))\n",
        "\n",
        "# Distribution of Sentiment in User Reviews\n",
        "plt.subplot(1, 3, 1)\n",
        "sns.countplot(x='Sentiment', data=reviews_df)\n",
        "plt.title('Distribution of Sentiment in User Reviews')\n",
        "plt.xlabel('Sentiment')\n",
        "plt.ylabel('Count')\n",
        "\n",
        "# Distribution of Sentiment Polarity in User Reviews\n",
        "plt.subplot(1, 3, 2)\n",
        "sns.histplot(reviews_df['Sentiment_Polarity'], bins=30, kde=True)\n",
        "plt.title('Distribution of Sentiment Polarity in User Reviews')\n",
        "plt.xlabel('Sentiment Polarity')\n",
        "plt.ylabel('Frequency')\n",
        "\n",
        "# Distribution of Sentiment Subjectivity in User Reviews\n",
        "plt.subplot(1, 3, 3)\n",
        "sns.histplot(reviews_df['Sentiment_Subjectivity'], bins=30, kde=True)\n",
        "plt.title('Distribution of Sentiment Subjectivity in User Reviews')\n",
        "plt.xlabel('Sentiment Subjectivity')\n",
        "plt.ylabel('Frequency')\n",
        "\n",
        "plt.tight_layout()\n",
        "plt.show()"
      ],
      "metadata": {
        "id": "irlUoxc8YrdO"
      },
      "execution_count": null,
      "outputs": []
    },
    {
      "cell_type": "markdown",
      "source": [
        "##### 1. Why did you pick the specific chart?"
      ],
      "metadata": {
        "id": "iky9q4vBYrdO"
      }
    },
    {
      "cell_type": "markdown",
      "source": [
        "I chose to combine the countplot for sentiment distribution, and histograms for sentiment polarity and subjectivity to provide a comprehensive view of user sentiments in the reviews data. This combination allows us to understand both the distribution of sentiment categories and the detailed distribution of sentiment scores.\n",
        "\n",
        "\n",
        "\n",
        "\n",
        "\n",
        "\n"
      ],
      "metadata": {
        "id": "aJRCwT6DYrdO"
      }
    },
    {
      "cell_type": "markdown",
      "source": [
        "##### 2. What is/are the insight(s) found from the chart?"
      ],
      "metadata": {
        "id": "F6T5p64dYrdO"
      }
    },
    {
      "cell_type": "markdown",
      "source": [
        "\n",
        "*   The countplot shows that the majority of user reviews have a positive sentiment, followed by negative and neutral sentiments. This indicates that overall, users are more inclined to express positive opinions about the apps.\n",
        "*   The histogram of sentiment polarity reveals that the sentiment scores are concentrated around the range of -0.2 to 0.5, suggesting a mix of slightly negative to positive sentiments in the reviews.\n",
        "\n",
        "*   The histogram of sentiment subjectivity indicates that most reviews exhibit a moderate level of subjectivity, falling within the range of 0.4 to 0.6.\n",
        "\n",
        "\n",
        "\n"
      ],
      "metadata": {
        "id": "Xx8WAJvtYrdO"
      }
    },
    {
      "cell_type": "markdown",
      "source": [
        "##### 3. Will the gained insights help creating a positive business impact?\n",
        "\n",
        "Are there any insights that lead to negative growth? Justify with specific reason"
      ],
      "metadata": {
        "id": "VeilB8KRx1sJ"
      }
    },
    {
      "cell_type": "markdown",
      "source": [
        "These insights can help businesses understand the overall sentiment distribution in user reviews, identify trends in sentiment polarity and subjectivity, and make informed decisions regarding product improvements or marketing strategies based on customer feedback.\n",
        "\n",
        "Analyzing sentiment polarity helps identify areas for improvement or strengths, while negative sentiments highlight potential issues needing attention.\n",
        "\n",
        "\n"
      ],
      "metadata": {
        "id": "WzfPBHNUx3OV"
      }
    },
    {
      "cell_type": "markdown",
      "source": [
        "#### Chart - 5"
      ],
      "metadata": {
        "id": "bamQiAODYuh1"
      }
    },
    {
      "cell_type": "code",
      "source": [
        "# counting values\n",
        "x1 = data_apps['Content Rating'].value_counts().index\n",
        "y1 = data_apps['Content Rating'].value_counts()\n",
        "\n",
        "#creating empty lists\n",
        "x1_axis = []\n",
        "y1_axis = []\n",
        "for i in range(len(x1)):\n",
        "    x1_axis.append(x1[i])\n",
        "    y1_axis.append(y1[i])"
      ],
      "metadata": {
        "id": "TIJwrbroYuh3"
      },
      "execution_count": null,
      "outputs": []
    },
    {
      "cell_type": "code",
      "source": [
        "# Calculate the distribution of app content ratings\n",
        "data = data_apps['Content Rating'].value_counts()\n",
        "labels = ['Everyone', 'Teen', 'Everyone 10+', 'Mature 17+', 'Adults only 18+', 'Unrated']\n",
        "\n",
        "# Create a pie chart for content ratings with adjusted settings\n",
        "plt.figure(figsize=(6, 6))\n",
        "explode = (0, 0.1, 0.1, 0.1, 0.0, 1.3)\n",
        "colors = ['C4', 'r', 'c', 'g', 'm', 'k']\n",
        "plt.pie(data, labels=labels, colors=colors, autopct='%.2f%%', explode=explode, textprops={'fontsize': 10})\n",
        "plt.title('Content Rating Distribution', size=20, loc='center')\n",
        "plt.legend()\n",
        "\n",
        "# Show the pie chart\n",
        "plt.show()"
      ],
      "metadata": {
        "id": "evwbL7kZyYVX"
      },
      "execution_count": null,
      "outputs": []
    },
    {
      "cell_type": "markdown",
      "source": [
        "##### 1. Why did you pick the specific chart?"
      ],
      "metadata": {
        "id": "QHF8YVU7Yuh3"
      }
    },
    {
      "cell_type": "markdown",
      "source": [
        "The pie chart effectively represents the distribution of categorical data, such as different content ratings, making it suitable for showcasing the proportions of each content rating category."
      ],
      "metadata": {
        "id": "dcxuIMRPYuh3"
      }
    },
    {
      "cell_type": "markdown",
      "source": [
        "##### 2. What is/are the insight(s) found from the chart?"
      ],
      "metadata": {
        "id": "GwzvFGzlYuh3"
      }
    },
    {
      "cell_type": "markdown",
      "source": [
        "A majority of the apps (82%) in the play store are can be used by everyone. The remaining apps have various age restrictions to use it. Teen Category has second highest percentage (10.7%)\n"
      ],
      "metadata": {
        "id": "uyqkiB8YYuh3"
      }
    },
    {
      "cell_type": "markdown",
      "source": [
        "3. Will the gained insights help creating a positive business impact?\n",
        "\n",
        "Are there any insights that lead to negative growth? Justify with specific reason."
      ],
      "metadata": {
        "id": "s9iPSr46y_dk"
      }
    },
    {
      "cell_type": "markdown",
      "source": [
        "These insights can inform decision-making related to content creation, marketing strategies, and audience targeting based on content rating preferences, potentially leading to a positive impact on user engagement and app success."
      ],
      "metadata": {
        "id": "PbZYcv9YzQdf"
      }
    },
    {
      "cell_type": "markdown",
      "source": [
        "#### Chart - 6"
      ],
      "metadata": {
        "id": "OH-pJp9IphqM"
      }
    },
    {
      "cell_type": "markdown",
      "source": [
        "# What are the Top 10 installed apps in any category?"
      ],
      "metadata": {
        "id": "OzLjeV3r1cuw"
      }
    },
    {
      "cell_type": "code",
      "source": [
        "\n",
        "#function\n",
        "def Top10_inst_app_in_any_cat(str):\n",
        "    str = str.upper()\n",
        "    top10 = data_apps[data_apps['Category'] == str]\n",
        "    top10apps = top10.sort_values(by='Installs', ascending=False).head(10)\n",
        "    plt.figure(figsize=(15,7))\n",
        "    plt.title('Top 10 Installed Apps',size = 20);\n",
        "    graph = sns.barplot(x = top10apps['App'], y = top10apps['Installs'])\n",
        "    graph.set_xticklabels(graph.get_xticklabels(), rotation= 45, horizontalalignment='right');"
      ],
      "metadata": {
        "id": "kuRf4wtuphqN"
      },
      "execution_count": null,
      "outputs": []
    },
    {
      "cell_type": "code",
      "source": [
        "Top10_inst_app_in_any_cat('Sports')"
      ],
      "metadata": {
        "id": "PeCF66ah3b8n"
      },
      "execution_count": null,
      "outputs": []
    },
    {
      "cell_type": "markdown",
      "source": [
        "##### 1. Why did you pick the specific chart?"
      ],
      "metadata": {
        "id": "bbFf2-_FphqN"
      }
    },
    {
      "cell_type": "markdown",
      "source": [
        "bar plot to review the sport category offers a straightforward and intuitive way to compare the number of apps associated with different sports, making it a suitable choice for this analysis"
      ],
      "metadata": {
        "id": "loh7H2nzphqN"
      }
    },
    {
      "cell_type": "markdown",
      "source": [
        "##### 2. What is/are the insight(s) found from the chart?"
      ],
      "metadata": {
        "id": "_ouA3fa0phqN"
      }
    },
    {
      "cell_type": "markdown",
      "source": [
        "\n",
        "*   From the above graph, we can see that in the Sports category 8 Ball Pool, 3D Bowling, Dream League Soccer 2018 & FIFA Soccer has the highest installs.\n",
        "*   In the same way by passing different category names to the function, we can get the top 10 installed app\n",
        "\n"
      ],
      "metadata": {
        "id": "VECbqPI7phqN"
      }
    },
    {
      "cell_type": "markdown",
      "source": [
        "#### Chart - 7"
      ],
      "metadata": {
        "id": "PIIx-8_IphqN"
      }
    },
    {
      "cell_type": "markdown",
      "source": [
        "# Does rating change with increasing price?"
      ],
      "metadata": {
        "id": "Mnvxl0M24kmm"
      }
    },
    {
      "cell_type": "code",
      "source": [
        "# setting plot size and background\n",
        "plt.figure(figsize=(10,6))\n",
        "sns.set_style(\"ticks\")\n",
        "\n",
        "# scatterplot Price v/s Rating\n",
        "sns.regplot(x=\"Price\", y=\"Rating\", data=data_apps,\n",
        "            line_kws={\"color\":\"r\", \"alpha\":0.7, \"lw\":5})\n",
        "\n",
        "# set title\n",
        "plt.title(\"Influence of Price on Rating\");\n"
      ],
      "metadata": {
        "id": "lqAIGUfyphqO"
      },
      "execution_count": null,
      "outputs": []
    },
    {
      "cell_type": "markdown",
      "source": [
        "##### 1. Why did you pick the specific chart?"
      ],
      "metadata": {
        "id": "t27r6nlMphqO"
      }
    },
    {
      "cell_type": "markdown",
      "source": [
        "Regplot for reviewing price and rating allows for a comprehensive examination of the relationship between these two variables, providing insights into pricing strategies, user perceptions, and market dynamics.\n",
        "\n",
        "\n",
        "\n",
        "\n",
        "\n",
        "\n"
      ],
      "metadata": {
        "id": "iv6ro40sphqO"
      }
    },
    {
      "cell_type": "markdown",
      "source": [
        "##### 2. What is/are the insight(s) found from the chart?"
      ],
      "metadata": {
        "id": "r2jJGEOYphqO"
      }
    },
    {
      "cell_type": "markdown",
      "source": [
        "\n",
        "*   There is anegetive relation between price and ratings .\n",
        "*   Looking at a plot , as Price factor increases , ratings decreases.\n",
        "\n"
      ],
      "metadata": {
        "id": "Po6ZPi4hphqO"
      }
    },
    {
      "cell_type": "markdown",
      "source": [
        "#### Chart - 8"
      ],
      "metadata": {
        "id": "BZR9WyysphqO"
      }
    },
    {
      "cell_type": "markdown",
      "source": [
        "# Does the size of an app influence the number of downloads?"
      ],
      "metadata": {
        "id": "G41P-4zl6PDm"
      }
    },
    {
      "cell_type": "code",
      "source": [
        "#\n",
        "fig, ax = plt.subplots(figsize=(10,6))\n",
        "\n",
        "sns.scatterplot(x=\"Size\", y=\"Installs\", data=data_apps)\n",
        "plt.title(\"Size v/s Installs\")"
      ],
      "metadata": {
        "id": "TdPTWpAVphqO"
      },
      "execution_count": null,
      "outputs": []
    },
    {
      "cell_type": "code",
      "source": [
        "# distrbution of installs\n",
        "sns.distplot(data_apps['Installs'])"
      ],
      "metadata": {
        "id": "NyNRiifu7wrv"
      },
      "execution_count": null,
      "outputs": []
    },
    {
      "cell_type": "markdown",
      "source": [
        "We have columns like Installs which range from 0 to 1,000,000,000, and even more; while Size column which ranges from 0 to 100(at the most). Thus, number of Installs are more times larger than Size.\n",
        "\n",
        "We can observe that Installs are highly skewed and its difficult from above to find any correlation of Size and Installs. So, to give importance to both Size, and Installs, we need feature transformation.\n",
        "\n",
        "The Log Transform is one of the most popular Transformation techniques out there. It is primarily used to convert a skewed distribution to a normal distribution/less-skewed distribution. In this transform, we take the log of the values in a column and use these values as the column instead.\n",
        "\n",
        "This transformation reduces the impact of both too-low as well as too-high values."
      ],
      "metadata": {
        "id": "Rmx3BJrp8yt9"
      }
    },
    {
      "cell_type": "code",
      "source": [
        "# Log Trasformation of column Installs\n",
        "data_apps[\"log_installs\"] = np.log(data_apps[\"Installs\"])\n",
        "data_apps.head(2)"
      ],
      "metadata": {
        "id": "qPdbnZX69Wrs"
      },
      "execution_count": null,
      "outputs": []
    },
    {
      "cell_type": "code",
      "source": [
        "# scatter plot Size v/s log_installs\n",
        "plt.figure(figsize=(10,6))\n",
        "sns.scatterplot(x=\"Size\", y=\"log_installs\", data=data_apps)\n",
        "\n",
        "# set title\n",
        "plt.title(\"Size v/s log_installs\");\n"
      ],
      "metadata": {
        "id": "O3dM92sy9cqw"
      },
      "execution_count": null,
      "outputs": []
    },
    {
      "cell_type": "markdown",
      "source": [
        "##### 1. Why did you pick the specific chart?"
      ],
      "metadata": {
        "id": "jj7wYXLtphqO"
      }
    },
    {
      "cell_type": "markdown",
      "source": [
        "Using a scatter plot for reviewing size versus installs offers a comprehensive and intuitive way to analyze the relationship between these two variables, providing valuable insights into user behavior and app performance."
      ],
      "metadata": {
        "id": "Ob8u6rCTphqO"
      }
    },
    {
      "cell_type": "markdown",
      "source": [
        "##### 2. What is/are the insight(s) found from the chart?"
      ],
      "metadata": {
        "id": "eZrbJ2SmphqO"
      }
    },
    {
      "cell_type": "markdown",
      "source": [
        "\n",
        "*   Apps having Size between 0 to 20 are installed more as observed from above.\n",
        "*   Looking at the plot the apps with large size are installed less as compared to small sized apps.\n",
        "*   Users prefer apps that require less space and load faster. We can conclude that app size may influence the number of installations of the app.\n",
        "\n",
        "\n"
      ],
      "metadata": {
        "id": "mZtgC_hjphqO"
      }
    },
    {
      "cell_type": "markdown",
      "source": [
        "#### Chart - 9"
      ],
      "metadata": {
        "id": "YJ55k-q6phqO"
      }
    },
    {
      "cell_type": "markdown",
      "source": [
        "# Are app updates important?"
      ],
      "metadata": {
        "id": "jk7ybrxj9xMC"
      }
    },
    {
      "cell_type": "code",
      "source": [
        "# getting year of update\n",
        "data_apps['Update_Year'] = pd.DatetimeIndex(data_apps['Last Updated']).year\n",
        "data_apps.head(2)"
      ],
      "metadata": {
        "id": "B2aS4O1ophqO"
      },
      "execution_count": null,
      "outputs": []
    },
    {
      "cell_type": "code",
      "source": [
        "\n",
        "# stripplot Update_year v/s log_installs\n",
        "plt.figure(figsize=(12,8))\n",
        "\n",
        "sns.stripplot(data =data_apps, x=\"Update_Year\", y=\"log_installs\",\n",
        "              jitter=0.3, size=5, linewidth=.2)\n",
        "\n",
        "plt.title(\"Update_year v/s log_installs\");"
      ],
      "metadata": {
        "id": "hA5Mqnfs95Fe"
      },
      "execution_count": null,
      "outputs": []
    },
    {
      "cell_type": "markdown",
      "source": [
        "##### 1. Why did you pick the specific chart?"
      ],
      "metadata": {
        "id": "gCFgpxoyphqP"
      }
    },
    {
      "cell_type": "markdown",
      "source": [
        "Strip plot for reviewing update year versus log installs offers a comprehensive and intuitive way to analyze the relationship between these two variables, providing valuable insights into user engagement and app performance over time."
      ],
      "metadata": {
        "id": "TVxDimi2phqP"
      }
    },
    {
      "cell_type": "markdown",
      "source": [
        "##### 2. What is/are the insight(s) found from the chart?"
      ],
      "metadata": {
        "id": "OVtJsKN_phqQ"
      }
    },
    {
      "cell_type": "markdown",
      "source": [
        "\n",
        "*   We can see from above plot that most of the apps get frequent updates and they are also installed more.\n",
        "*   There are very less apps which got updates in 2010, 2011 and 2012 year.\n",
        "*   We can say that those developers who make their app better over period of time have great chance of success.\n",
        "\n",
        "\n",
        "\n",
        "\n"
      ],
      "metadata": {
        "id": "ngGi97qjphqQ"
      }
    },
    {
      "cell_type": "markdown",
      "source": [
        "#### Chart - 10"
      ],
      "metadata": {
        "id": "U2RJ9gkRphqQ"
      }
    },
    {
      "cell_type": "markdown",
      "source": [
        "# Is sentiment_subjectivity proportional to sentiment_polarity?"
      ],
      "metadata": {
        "id": "Mb2fYcxcS5mQ"
      }
    },
    {
      "cell_type": "code",
      "source": [
        "# Create a scatter plot for sentiment analysis\n",
        "plt.figure(figsize=(15, 10))\n",
        "sns.scatterplot(x = reviews_df['Sentiment_Subjectivity'],y =  reviews_df['Sentiment_Polarity'],\n",
        "                hue=reviews_df['Sentiment'], edgecolor='white', palette='inferno')\n",
        "plt.title(\"Google Play Store Reviews Sentiment Analysis\", fontsize=20)\n",
        "plt.xlabel(\"Sentiment Subjectivity\")\n",
        "plt.ylabel(\"Sentiment Polarity\")\n",
        "plt.legend(title=\"Sentiment\")\n",
        "plt.show()\n",
        "\n"
      ],
      "metadata": {
        "id": "GM7a4YP4phqQ"
      },
      "execution_count": null,
      "outputs": []
    },
    {
      "cell_type": "markdown",
      "source": [
        "##### 1. Why did you pick the specific chart?"
      ],
      "metadata": {
        "id": "1M8mcRywphqQ"
      }
    },
    {
      "cell_type": "markdown",
      "source": [
        "A scatter plot is suitable for showing the relationship between two numerical variables, such as sentiment subjectivity and sentiment polarity, and allows us to observe patterns or correlations."
      ],
      "metadata": {
        "id": "8agQvks0phqQ"
      }
    },
    {
      "cell_type": "markdown",
      "source": [
        "##### 2. What is/are the insight(s) found from the chart?"
      ],
      "metadata": {
        "id": "tgIPom80phqQ"
      }
    },
    {
      "cell_type": "markdown",
      "source": [
        "The scatter plot shows that while sentiment subjectivity and sentiment polarity generally have a proportional relationship in many cases, there are instances where this relationship is not strictly proportional, indicating varied sentiments within reviews."
      ],
      "metadata": {
        "id": "Qp13pnNzphqQ"
      }
    },
    {
      "cell_type": "markdown",
      "source": [
        "##### 3. Will the gained insights help creating a positive business impact?\n",
        "Are there any insights that lead to negative growth? Justify with specific reason."
      ],
      "metadata": {
        "id": "JMzcOPDDphqR"
      }
    },
    {
      "cell_type": "markdown",
      "source": [
        "Are there any insights that lead to negative growth? Justify with specific reason.\n",
        "\n",
        "It provides a visual representation of how sentiment subjectivity and polarity are distributed across reviews, helping to identify trends or anomalies in sentiment analysis and understand the overall sentiment patterns in the data."
      ],
      "metadata": {
        "id": "R4Ka1PC2phqR"
      }
    },
    {
      "cell_type": "markdown",
      "source": [
        "#### Chart - 11"
      ],
      "metadata": {
        "id": "x-EpHcCOp1ci"
      }
    },
    {
      "cell_type": "markdown",
      "source": [
        "We can represent the ratings in a better way if we group the ratings between certain intervals. Here, we can group the rating as follows:\n",
        "\n",
        "*   4-5: Top rated\n",
        "*   3-4: Above average\n",
        "*   2-3: Average\n",
        "*   1-2: Below average"
      ],
      "metadata": {
        "id": "6Es5Z4WYMWRr"
      }
    },
    {
      "cell_type": "markdown",
      "source": [
        "Lets create a new column 'Rating group' in the main dataframe and apply these filters."
      ],
      "metadata": {
        "id": "uys8Nw3hMpCW"
      }
    },
    {
      "cell_type": "code",
      "source": [
        "# Defining a function grouped_rating to group the ratings as mentioned above\n",
        "def Rating_app(val):\n",
        "  ''''\n",
        "  This function help to categories the rating from 1 to 5\n",
        "  as Top_rated,Above_average,Average & below Average\n",
        "  '''\n",
        "  if val>=4:\n",
        "    return 'Top rated'\n",
        "  elif val>3 and val<4:\n",
        "    return 'Above Average'\n",
        "  elif val>2 and val<3:\n",
        "    return 'Average'\n",
        "  else:\n",
        "    return 'Below Average'"
      ],
      "metadata": {
        "id": "79hlj3oCM17Y"
      },
      "execution_count": null,
      "outputs": []
    },
    {
      "cell_type": "markdown",
      "source": [
        "Lets apply the grouped_rating function on the Rating column and save the output in new column named as Rating group in the main df."
      ],
      "metadata": {
        "id": "NyzTBf8pM8q8"
      }
    },
    {
      "cell_type": "code",
      "source": [
        "# Applying grouped_rating function\n",
        "data_apps['Rating_group']=data_apps['Rating'].apply(lambda x: Rating_app(x))"
      ],
      "metadata": {
        "id": "Bn-9SDNTNBNF"
      },
      "execution_count": null,
      "outputs": []
    },
    {
      "cell_type": "code",
      "source": [
        "# Average app ratings\n",
        "data_apps['Rating_group'].value_counts().plot.bar(figsize=(15,5), color = 'royalblue')\n",
        "plt.xlabel('Rating Group')\n",
        "plt.ylabel('Number of apps')\n",
        "plt.title('Average app ratings')\n",
        "plt.xticks(rotation=0)\n",
        "plt.legend()\n"
      ],
      "metadata": {
        "id": "mAQTIvtqp1cj"
      },
      "execution_count": null,
      "outputs": []
    },
    {
      "cell_type": "markdown",
      "source": [
        "##### 1. Why did you pick the specific chart?"
      ],
      "metadata": {
        "id": "X_VqEhTip1ck"
      }
    },
    {
      "cell_type": "markdown",
      "source": [
        "he specific chart, a bar plot, is chosen to visualize the distribution of app ratings across different rating groups, providing a clear comparison of the number of apps falling into each rating category."
      ],
      "metadata": {
        "id": "-vsMzt_np1ck"
      }
    },
    {
      "cell_type": "markdown",
      "source": [
        "##### 2. What is/are the insight(s) found from the chart?"
      ],
      "metadata": {
        "id": "8zGJKyg5p1ck"
      }
    },
    {
      "cell_type": "markdown",
      "source": [
        "The chart reveals that a significant number(7000+) of apps fall into the 'Top rated' category, indicating a considerable proportion of highly-rated apps in the dataset. The distribution across other categories ('Above Average'(2000), 'Average', 'Below Average') provides insights into the overall quality and diversity of app ratings."
      ],
      "metadata": {
        "id": "ZYdMsrqVp1ck"
      }
    },
    {
      "cell_type": "markdown",
      "source": [
        "##### 3. Will the gained insights help creating a positive business impact?\n",
        "Are there any insights that lead to negative growth? Justify with specific reason."
      ],
      "metadata": {
        "id": "PVzmfK_Ep1ck"
      }
    },
    {
      "cell_type": "markdown",
      "source": [
        "Are there any insights that lead to negative growth? Justify with specific reason.\n",
        "\n",
        "Yes, the insights gained from this chart can help businesses understand the distribution of app ratings and identify areas of strength (Top rated apps) as well as areas for potential improvement (Average and Below Average apps)."
      ],
      "metadata": {
        "id": "druuKYZpp1ck"
      }
    },
    {
      "cell_type": "markdown",
      "source": [
        "#### Chart - 12"
      ],
      "metadata": {
        "id": "n3dbpmDWp1ck"
      }
    },
    {
      "cell_type": "markdown",
      "source": [
        "# Exploring App Ratings by Size and Category"
      ],
      "metadata": {
        "id": "kvq9KZQXN2Cg"
      }
    },
    {
      "cell_type": "code",
      "source": [
        "\n",
        "# Set the seaborn style to whitegrid and remove the grid from axes\n",
        "sns.set_style(\"whitegrid\", {'axes.grid' : False})\n",
        "\n",
        "# Create an lmplot to visualize the relationship between Rating and Size across different categories\n",
        "sns.lmplot(y='Rating', x='Size', data=data_apps, col=\"Category\", hue=\"Category\", col_wrap=4,\n",
        "           line_kws={'color': 'red'}, height=4, aspect=1.2)\n",
        "plt.suptitle('Exploring App Ratings by Size and Category', y=1.02)\n",
        "\n",
        "# Display the plot\n",
        "plt.show()\n"
      ],
      "metadata": {
        "id": "UZrmJHXXO7-L"
      },
      "execution_count": null,
      "outputs": []
    },
    {
      "cell_type": "code",
      "source": [],
      "metadata": {
        "id": "zGjUIyiz3-Pu"
      },
      "execution_count": null,
      "outputs": []
    },
    {
      "cell_type": "markdown",
      "source": [
        "##### 1. Why did you pick the specific chart?"
      ],
      "metadata": {
        "id": "ylSl6qgtp1ck"
      }
    },
    {
      "cell_type": "markdown",
      "source": [
        "This lmplot visualizes how the Rating of apps varies with their Size, segmented by different app categories.\n",
        "\n",
        "The red regression line shows the overall trend, while each subplot represents a specific app category, allowing for category-specific insights."
      ],
      "metadata": {
        "id": "m2xqNkiQp1ck"
      }
    },
    {
      "cell_type": "markdown",
      "source": [
        "##### 2. What is/are the insight(s) found from the chart?"
      ],
      "metadata": {
        "id": "ZWILFDl5p1ck"
      }
    },
    {
      "cell_type": "markdown",
      "source": [
        "The chart reveals varying trends in the relationship between app size and ratings across different app categories. For instance, in some categories, larger apps may have higher ratings, while in others, smaller apps might be favored by users. This insight can guide decisions on app development and marketing strategies tailored to each category's user preferences."
      ],
      "metadata": {
        "id": "x-lUsV2mp1ck"
      }
    },
    {
      "cell_type": "markdown",
      "source": [
        "##### 3. Will the gained insights help creating a positive business impact?\n",
        "Are there any insights that lead to negative growth? Justify with specific reason."
      ],
      "metadata": {
        "id": "M7G43BXep1ck"
      }
    },
    {
      "cell_type": "markdown",
      "source": [
        "\n",
        "Yes, the insights derived from this chart can have a positive business impact by informing decisions related to app design, functionality, and marketing. By understanding how app size influences user ratings within specific categories, businesses can optimize their apps to better meet user expectations, leading to improved user satisfaction and potentially higher app ratings, which in turn can drive downloads, user retention, and overall business success."
      ],
      "metadata": {
        "id": "5wwDJXsLp1cl"
      }
    },
    {
      "cell_type": "markdown",
      "source": [
        "#### Chart - 13"
      ],
      "metadata": {
        "id": "Ag9LCva-p1cl"
      }
    },
    {
      "cell_type": "markdown",
      "source": [
        "# Percentage of Review Sentiments"
      ],
      "metadata": {
        "id": "XZKGzUzHnETr"
      }
    },
    {
      "cell_type": "code",
      "source": [
        "# Get the count of each sentiment category\n",
        "counts = list(reviews_df['Sentiment'].value_counts())\n",
        "\n",
        "# Define labels for the pie chart\n",
        "labels = 'Positive Reviews', 'Negative Reviews', 'Neutral Reviews'\n",
        "\n",
        "# Create the pie chart with exploded segments, shadow, and percentage labels\n",
        "plt.figure(figsize=(8, 8))\n",
        "plt.pie(counts, labels=labels, explode=[0.01, 0.05, 0.05], shadow=True, autopct=\"%.2f%%\")\n",
        "\n",
        "# Set the title and turn off axis labels\n",
        "plt.title('Percentage of Review Sentiments')\n",
        "plt.axis('off')\n",
        "\n",
        "# Add a legend outside the plot area to the right\n",
        "plt.legend(bbox_to_anchor=(1, 0.8), loc='center left')\n",
        "\n",
        "# Show the plot\n",
        "plt.show()"
      ],
      "metadata": {
        "id": "EUfxeq9-p1cl"
      },
      "execution_count": null,
      "outputs": []
    },
    {
      "cell_type": "markdown",
      "source": [
        "##### 1. Why did you pick the specific chart?"
      ],
      "metadata": {
        "id": "E6MkPsBcp1cl"
      }
    },
    {
      "cell_type": "markdown",
      "source": [
        "A pie chart is suitable for displaying the distribution of categories (positive, negative, neutral) in a visually intuitive way, making it easy to grasp the proportions of each sentiment category."
      ],
      "metadata": {
        "id": "V22bRsFWp1cl"
      }
    },
    {
      "cell_type": "markdown",
      "source": [
        "##### 2. What is/are the insight(s) found from the chart?"
      ],
      "metadata": {
        "id": "2cELzS2fp1cl"
      }
    },
    {
      "cell_type": "markdown",
      "source": [
        "From this visualization, it's evident that a significant majority of reviews are positive, indicating a generally favorable sentiment towards the apps.\n",
        "\n",
        "Theres tie between negative and neutral reviews which are 21% and 14.6% respectively"
      ],
      "metadata": {
        "id": "ozQPc2_Ip1cl"
      }
    },
    {
      "cell_type": "markdown",
      "source": [
        "##### 3. Will the gained insights help creating a positive business impact?\n",
        "Are there any insights that lead to negative growth? Justify with specific reason."
      ],
      "metadata": {
        "id": "3MPXvC8up1cl"
      }
    },
    {
      "cell_type": "markdown",
      "source": [
        "Are there any insights that lead to negative growth? Justify with specific reason.\n",
        "\n",
        "This visualization helps in understanding the overall sentiment polarity of the reviews. The higher percentage of positive reviews suggests that users are generally satisfied with the apps, while the presence of negative and neutral reviews indicates areas where improvements or attention might be needed"
      ],
      "metadata": {
        "id": "GL8l1tdLp1cl"
      }
    },
    {
      "cell_type": "markdown",
      "source": [
        "**Apps with the highest number of positive reviews**"
      ],
      "metadata": {
        "id": "TWWQQmjSot3s"
      }
    },
    {
      "cell_type": "code",
      "source": [
        "\n",
        "# positive reviews\n",
        "positive_rev_df=reviews_df[reviews_df['Sentiment']=='Positive']\n",
        "positive_rev_df.groupby('App')['Sentiment'].value_counts().nlargest(10).plot.barh(figsize=(6,4),color='seagreen').invert_yaxis()\n",
        "plt.title(\"Top 10 positive review apps\")\n",
        "plt.xlabel('Total number of positive reviews')\n",
        "plt.legend()"
      ],
      "metadata": {
        "id": "KG9nkExOoyaE"
      },
      "execution_count": null,
      "outputs": []
    },
    {
      "cell_type": "markdown",
      "source": [
        "**Apps with the highest number of negative reviews**"
      ],
      "metadata": {
        "id": "IlVPdp4Mo-31"
      }
    },
    {
      "cell_type": "code",
      "source": [
        "# negative reviews\n",
        "negative_rev_df=reviews_df[reviews_df['Sentiment']=='Negative']\n",
        "negative_rev_df.groupby('App')['Sentiment'].value_counts().nlargest(10).plot.barh(figsize=(6,4),color='crimson').invert_yaxis()\n",
        "plt.title(\"Top 10 positive review apps\")\n",
        "plt.xlabel('Total number of positive reviews')\n",
        "plt.legend()\n"
      ],
      "metadata": {
        "id": "UySwm1CQpA3B"
      },
      "execution_count": null,
      "outputs": []
    },
    {
      "cell_type": "markdown",
      "source": [
        "#### Chart - 14 - Correlation Heatmap"
      ],
      "metadata": {
        "id": "NC_X3p0fY2L0"
      }
    },
    {
      "cell_type": "code",
      "source": [
        "# Exclude non-numeric columns from correlation calculation\n",
        "numeric_data_apps = data_apps.select_dtypes(include=['number'])\n",
        "\n",
        "# Calculate the correlation matrix for numeric columns\n",
        "print(numeric_data_apps.corr())\n"
      ],
      "metadata": {
        "id": "oEV0NySc4yPX"
      },
      "execution_count": null,
      "outputs": []
    },
    {
      "cell_type": "code",
      "source": [
        "fig, axes = plt.subplots(figsize=(8, 8))\n",
        "sns.heatmap(numeric_data_apps.corr(), ax=axes, annot=True, linewidths=0.1, fmt='.2f', square=True)\n",
        "plt.show()\n"
      ],
      "metadata": {
        "id": "xyC9zolEZNRQ"
      },
      "execution_count": null,
      "outputs": []
    },
    {
      "cell_type": "markdown",
      "source": [
        "##### 1. Why did you pick the specific chart?"
      ],
      "metadata": {
        "id": "UV0SzAkaZNRQ"
      }
    },
    {
      "cell_type": "markdown",
      "source": [
        "I chose a heatmap of the correlation matrix because it visually represents the correlation between numerical variables in a clear and concise manner. The color gradients help in quickly identifying the strength and direction of the relationships between variables."
      ],
      "metadata": {
        "id": "DVPuT8LYZNRQ"
      }
    },
    {
      "cell_type": "markdown",
      "source": [
        "##### 2. What is/are the insight(s) found from the chart?"
      ],
      "metadata": {
        "id": "YPEH6qLeZNRQ"
      }
    },
    {
      "cell_type": "markdown",
      "source": [
        "\n",
        "*   There is a strong positive correlation between the Reviews and Installs column. This is pretty much obvious. Higher the number of installs, higher is the user base, and higher are the total number of reviews dropped by the users.\n",
        "\n",
        "*   The Price is slightly negatively correlated with the Rating, Reviews, and Installs. This means that as the prices of the app increases, the average rating, total number of reviews and Installs fall slightly.\n",
        "\n",
        "*   The Rating is slightly positively correlated with the Installs and Reviews column. This indicates that as the the average user rating increases, the app installs and number of reviews also increase.\n",
        "\n",
        "\n",
        "\n",
        "\n"
      ],
      "metadata": {
        "id": "bfSqtnDqZNRR"
      }
    },
    {
      "cell_type": "markdown",
      "source": [
        "#### Chart - 15 - Pair Plot"
      ],
      "metadata": {
        "id": "q29F0dvdveiT"
      }
    },
    {
      "cell_type": "code",
      "source": [
        "# Extract relevant columns from data_apps\n",
        "Rating = data_apps['Rating']\n",
        "Size = data_apps['Size']\n",
        "Installs = data_apps['Installs']\n",
        "Reviews = data_apps['Reviews']\n",
        "Type = data_apps['Type']\n",
        "Price = data_apps['Price']\n",
        "\n",
        "# Create a DataFrame with selected columns and perform logarithmic transformation on Installs and Reviews\n",
        "pairwise_df = pd.DataFrame(list(zip(Rating, Size, np.log(Installs), np.log10(Reviews), Price, Type)),\n",
        "                           columns=['Rating','Size', 'Installs', 'Reviews', 'Price','Type'])\n",
        "\n",
        "# Create a pairplot with hue based on 'Type' column\n",
        "p = sns.pairplot(pairwise_df, hue='Type')\n",
        "\n",
        "# Set title for the pairplot\n",
        "p.fig.suptitle(\"Pairwise Plot - Rating, Size, Installs, Reviews, Price\", x=0.5, y=1.0, fontsize=12)\n",
        "\n",
        "# Show the pairplot\n",
        "plt.show()\n"
      ],
      "metadata": {
        "id": "o58-TEIhveiU"
      },
      "execution_count": null,
      "outputs": []
    },
    {
      "cell_type": "markdown",
      "source": [
        "##### 1. Why did you pick the specific chart?"
      ],
      "metadata": {
        "id": "EXh0U9oCveiU"
      }
    },
    {
      "cell_type": "markdown",
      "source": [
        "Pair plot is used to understand the best set of features to explain a relationship between two variables or to form the most separated clusters\n",
        "\n",
        "\n",
        "\n",
        "\n",
        "\n",
        "\n"
      ],
      "metadata": {
        "id": "eMmPjTByveiU"
      }
    },
    {
      "cell_type": "markdown",
      "source": [
        "##### 2. What is/are the insight(s) found from the chart?"
      ],
      "metadata": {
        "id": "22aHeOlLveiV"
      }
    },
    {
      "cell_type": "markdown",
      "source": [
        "\n",
        "*   It also helps to form some simple classification models by drawing some simple lines or make linear separation in our data-set.\n",
        "*   Plot a pairwise plot between all the quantitative variables to look for any evident patterns or relationships between the features\n",
        "\n"
      ],
      "metadata": {
        "id": "uPQ8RGwHveiV"
      }
    },
    {
      "cell_type": "markdown",
      "source": [
        "## **5. Solution to Business Objective**"
      ],
      "metadata": {
        "id": "JcMwzZxoAimU"
      }
    },
    {
      "cell_type": "markdown",
      "source": [
        "#### What do you suggest the client to achieve Business Objective ?\n",
        "Explain Briefly."
      ],
      "metadata": {
        "id": "8G2x9gOozGDZ"
      }
    },
    {
      "cell_type": "markdown",
      "source": [
        "# Business Solution for App Performance and User Satisfaction"
      ],
      "metadata": {
        "id": "pASKb0qOza21"
      }
    },
    {
      "cell_type": "markdown",
      "source": [
        "\n",
        "1.   **Category Optimization for Maximum Impact**\n",
        "*   Focus resources and marketing efforts on top-performing categories like Communication and Social, which exhibit high user engagement, positive sentiment, and significant installs.\n",
        "*   Tailor app features, updates, and promotional campaigns to resonate with user preferences within these dominant categories, ensuring maximum impact and user satisfaction.\n",
        "\n",
        "\n",
        "\n",
        "2.   **Review and Ratings Enhancement**\n",
        "*   Optimize pricing strategies based on the slight negative correlation (-0.09) between app prices and ratings/reviews.\n",
        "*   Implement in-app prompts and incentives for satisfied users to leave reviews, while promptly addressing negative feedback to demonstrate responsiveness and commitment to user satisfaction.\n",
        "\n",
        "\n",
        "\n",
        "3.   **Pricing Strategy Refinement**\n",
        "*   Align marketing messaging with sentiment trends to reinforce positive perceptions and attract new users.\n",
        "*   Conduct A/B testing and introduce flexible pricing tiers or promotional offers to attract price-sensitive users without compromising perceived value, thereby enhancing user acquisition and retention.\n",
        "\n",
        "\n",
        "\n",
        "4.   **Sentiment-Driven Feature Enhancements**\n",
        "*  Prioritize feature enhancements based on sentiment analysis insights to address user satisfaction and pain points effectively.\n",
        "*   Capitalize on positive sentiment themes to strengthen app features that resonate with users, while addressing negative sentiments to improve overall user experience and mitigate churn.\n",
        "\n",
        "\n",
        "5.   **Marketing Messaging Alignment**\n",
        "*   Align marketing messaging with sentiment trends to reinforce positive perceptions and attract new users.\n",
        "*   Ensure consistency between marketing campaigns and user sentiments, maintaining authenticity and trust to drive user engagement and loyalty.\n",
        "\n",
        "\n",
        "\n",
        "6.   **Continuous Monitoring and Agile Iterations**\n",
        "\n",
        "\n",
        "*   Implement a robust feedback loop and agile development approach to continuously monitor user feedback, sentiment trends, and app performance metrics.\n",
        "*   Iterate and adapt app features, marketing strategies, and pricing models based on real-time insights, ensuring ongoing improvement, relevance, and competitiveness in the Google Play Store ecosystem.\n",
        "\n"
      ],
      "metadata": {
        "id": "yjng1sm1h_ct"
      }
    },
    {
      "cell_type": "markdown",
      "source": [
        "# **Conclusion**"
      ],
      "metadata": {
        "id": "gCX9965dhzqZ"
      }
    },
    {
      "cell_type": "markdown",
      "source": [
        "In conclusion, the analysis underscores the importance of understanding user preferences, focusing on app quality, and aligning with market trends to succeed in the competitive landscape of the Google Play Store. By leveraging these insights, developers and businesses can make informed decisions to optimize app performance, enhance user satisfaction, and drive sustainable growth in the Android app market.\n",
        "\n"
      ],
      "metadata": {
        "id": "Fjb1IsQkh3yE"
      }
    },
    {
      "cell_type": "markdown",
      "source": [
        "### ***Hurrah! You have successfully completed your EDA Capstone Project !!!***"
      ],
      "metadata": {
        "id": "gIfDvo9L0UH2"
      }
    }
  ]
}